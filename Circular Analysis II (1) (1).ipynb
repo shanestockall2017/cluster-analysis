{
 "metadata": {
  "name": "",
  "signature": "sha256:88b8c2ab8d9e0faba0451a1da539c48c9fc436ad051b2097aacdf520944e6ed1"
 },
 "nbformat": 3,
 "nbformat_minor": 0,
 "worksheets": [
  {
   "cells": [
    {
     "cell_type": "code",
     "collapsed": false,
     "input": [
      "import numpy as np \n",
      "\n",
      "from scipy.spatial import cKDTree as KDTree\n",
      "\n",
      "x, y, z, BHFlag = np.loadtxt('C:\\Projects\\GCAnalysis\\snap_t232_shane.dat', unpack = True)"
     ],
     "language": "python",
     "metadata": {},
     "outputs": [],
     "prompt_number": 2
    },
    {
     "cell_type": "code",
     "collapsed": false,
     "input": [
      "largestClump = []\n",
      "currentClump = []\n",
      "denseClump = []\n",
      "\n",
      "#creating numpy array of .dat file\n",
      "regularArray = []\n",
      "for i in range(0, len(x)-1):\n",
      "    regularArray.append([x[i], y[i], z[i]])\n",
      "    \n",
      "\n",
      "#convert data to numpy array\n",
      "npArray = np.array(regularArray)\n",
      "    \n",
      "#creating KDTree of points\n",
      "KDTreeOfPoints = KDTree(npArray)\n",
      "\n",
      "def Find_My_Clump(centerStar):\n",
      "    \n",
      "    #query KDTree\n",
      "    Distances, Indices = KDTreeOfPoints.query(regularArray[centerStar],len(x)-1)\n",
      "    \n",
      "    global centerPoint \n",
      "    centerPoint = [x[centerStar], y[centerStar], z[centerStar]]\n",
      "    starCounter = 0\n",
      "    \n",
      "    for i in range (1, len(x)-1):\n",
      "        if BHFlag[Indices[i]] == 1:\n",
      "            currentClump.append(Indices[i])\n",
      "        if BHFlag[Indices[i]] == 0: \n",
      "            starCounter = starCounter + 1\n",
      "            if starCounter == 1:\n",
      "                break\n",
      "            \n",
      "            \n",
      "    return currentClump\n",
      "\n",
      "def Find_Volume(clump):\n",
      "    if len(clump) == 0: \n",
      "        volume = 0 \n",
      "    else:\n",
      "        volume = 4/3*np.pi*  ((x[clump[len(clump)-1]] - x[clump[0]])**2 + \n",
      "                              (y[clump[len(clump)-1]] - y[clump[0]])**2 + \n",
      "                              (z[clump[len(clump)-1]] - z[clump[0]])**2)**(3/2)\n",
      "    return volume\n",
      "        \n",
      "\n",
      "def Find_Density(clump):\n",
      "    if Find_Volume(clump) == 0:\n",
      "        density = 0\n",
      "    else:\n",
      "        density = len(clump)/Find_Volume(clump)\n",
      "        \n",
      "    return density\n",
      "\n",
      "def Find_Dense_Clump(): \n",
      "    for i in range(0, len(x)-1):\n",
      "        if BHFlag[i] == 1:\n",
      "            Find_My_Clump(i)\n",
      "            if len(currentClump) > 3: #if you want to have a smaller/larger lower threshold in your dense clump, change this number\n",
      "                if Find_Density(currentClump) > Find_Density(denseClump):\n",
      "                    del denseClump[:]\n",
      "                    for i in range(0, len(currentClump)-1):\n",
      "                        denseClump.append(currentClump[i])\n",
      "            del currentClump[:]\n",
      "            \n",
      "    return denseClump\n",
      "\n",
      "def Find_Largest_Clump(): \n",
      "    for i in range(0, len(x)-1):\n",
      "        if BHFlag[i] == 1:\n",
      "            Find_My_Clump(i)\n",
      "            if len(currentClump) > len(largestClump):\n",
      "                del largestClump[:]\n",
      "                for i in range(0, len(currentClump)-1):\n",
      "                    largestClump.append(currentClump[i])\n",
      "            del currentClump[:]\n",
      "    \n",
      "    \n",
      "    \n",
      "  "
     ],
     "language": "python",
     "metadata": {},
     "outputs": [],
     "prompt_number": 21
    },
    {
     "cell_type": "code",
     "collapsed": false,
     "input": [
      "Find_Largest_Clump()"
     ],
     "language": "python",
     "metadata": {},
     "outputs": [],
     "prompt_number": 10
    },
    {
     "cell_type": "code",
     "collapsed": false,
     "input": [
      "print(largestClump)"
     ],
     "language": "python",
     "metadata": {},
     "outputs": [
      {
       "output_type": "stream",
       "stream": "stdout",
       "text": [
        "[18218, 18263, 18178, 18228, 50235, 18651, 18648, 18230, 20538]\n"
       ]
      }
     ],
     "prompt_number": 11
    },
    {
     "cell_type": "code",
     "collapsed": false,
     "input": [
      "len(largestClump)"
     ],
     "language": "python",
     "metadata": {},
     "outputs": [
      {
       "metadata": {},
       "output_type": "pyout",
       "prompt_number": 12,
       "text": [
        "9"
       ]
      }
     ],
     "prompt_number": 12
    },
    {
     "cell_type": "code",
     "collapsed": false,
     "input": [
      "Find_Dense_Clump()"
     ],
     "language": "python",
     "metadata": {},
     "outputs": [
      {
       "metadata": {},
       "output_type": "pyout",
       "prompt_number": 22,
       "text": [
        "[18178, 23616, 19031, 18194, 18648, 18218, 18651]"
       ]
      }
     ],
     "prompt_number": 22
    },
    {
     "cell_type": "code",
     "collapsed": false,
     "input": [
      "print(len(denseClump))"
     ],
     "language": "python",
     "metadata": {},
     "outputs": [
      {
       "output_type": "stream",
       "stream": "stdout",
       "text": [
        "7\n"
       ]
      }
     ],
     "prompt_number": 23
    },
    {
     "cell_type": "code",
     "collapsed": false,
     "input": [
      "testDist = []\n",
      "\n",
      "for i in range(0, len(largestClump)-1):\n",
      "    testDist.append(((x[largestClump[i]]-centerPoint[0])**2 + (y[largestClump[i]]-centerPoint[1])**2 + (z[largestClump[i]]-centerPoint[2])**2) ** (1/2))\n",
      "    "
     ],
     "language": "python",
     "metadata": {},
     "outputs": [],
     "prompt_number": 17
    },
    {
     "cell_type": "code",
     "collapsed": false,
     "input": [
      "print(testDist)"
     ],
     "language": "python",
     "metadata": {},
     "outputs": [
      {
       "output_type": "stream",
       "stream": "stdout",
       "text": [
        "[0.18248877046422554, 0.2124722339258987, 0.14004738507511913, 0.13179886150921566, 0.22830777542938072, 0.15252902255615583, 0.14757105432065534, 0.25116517257703425, 0.17441662813540118, 0.1124986879982654, 0.14561402684927882]\n"
       ]
      }
     ],
     "prompt_number": 18
    },
    {
     "cell_type": "code",
     "collapsed": false,
     "input": [],
     "language": "python",
     "metadata": {},
     "outputs": []
    }
   ],
   "metadata": {}
  }
 ]
}